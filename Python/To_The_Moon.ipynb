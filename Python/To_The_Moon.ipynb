{
  "nbformat": 4,
  "nbformat_minor": 0,
  "metadata": {
    "colab": {
      "provenance": []
    },
    "kernelspec": {
      "name": "python3",
      "display_name": "Python 3"
    },
    "language_info": {
      "name": "python"
    }
  },
  "cells": [
    {
      "cell_type": "code",
      "execution_count": null,
      "metadata": {
        "id": "VHZ1OBySJ3qs"
      },
      "outputs": [],
      "source": [
        "from google.auth import default\n",
        "from google.colab import auth\n",
        "from google.colab import files\n",
        "import gspread\n",
        "import pandas as pd\n",
        "\n",
        "auth.authenticate_user()\n",
        "\n",
        "creds, _ = default()\n",
        "\n",
        "gc = gspread.authorize(creds)"
      ]
    },
    {
      "cell_type": "code",
      "source": [
        "# The URLs for the spreadsheets that catch all the form data for art, theme camps, and events\n",
        "\n",
        "# artURL = 'https://docs.google.com/spreadsheets/d/1nWnP165f-8EETuoejS5DiRA4g46WtAUlUgH6ISY8T4E/edit#gid=2113055750'\n",
        "# eventURL = 'https://docs.google.com/spreadsheets/d/1Tb7Gxxl8iXwh8d7dVlWJJA9moGGu4VoakFafesDCFVU/edit#gid=1769843369'\n",
        "# campURL = 'https://docs.google.com/spreadsheets/d/11mBjvuw1JLgF6LeGYzaDwemQrYC6qsyhbPLJpk9aiAM/edit#gid=91151219'\n",
        "artURL = 'https://docs.google.com/spreadsheets/d/1QObtQgGYhetnxALQq4kIwrgBCHkxTPwzQw5OKHM4K68/edit?usp=sharing'\n",
        "eventURL = 'https://docs.google.com/spreadsheets/d/1fFnxr5e3VtNUvGY7011j_heS3xffzw9dltIJcrPORmM/edit?usp=sharing'\n",
        "campURL = 'https://docs.google.com/spreadsheets/d/1ZnY8mX8xyanx8sLYMZd-Kx54Wsv3hS0n64p-Rijp5do/edit#gid=486141219'"
      ],
      "metadata": {
        "id": "dEFsCGx2eaZO"
      },
      "execution_count": null,
      "outputs": []
    },
    {
      "cell_type": "markdown",
      "source": [
        "# Process Art"
      ],
      "metadata": {
        "id": "fJTo1oXgSI5P"
      }
    },
    {
      "cell_type": "code",
      "source": [
        "# read data and put it in a dataframe\n",
        "gs = gc.open_by_url(artURL)\n",
        "worksheet = gs.get_worksheet(0)\n",
        "\n",
        "df = pd.DataFrame(worksheet.get_all_records())\n",
        "df.rename(columns={'Name of Art ': 'title',\n",
        "                   'Artist ': 'artist',\n",
        "                   'Location' : 'camp',\n",
        "                   'Public Art Description': 'description'}, inplace=True)\n",
        "df = df[['title', 'artist', 'camp', 'description']]\n",
        "df.sort_values(by='title', inplace=True)\n",
        "\n",
        "output = ''\n",
        "\n",
        "for index, row in df.iterrows():\n",
        "  title =  '\\subsection*{' + '{}'.format(row[0].strip()) + '}\\n'\n",
        "  artist = '{\\color{violet} \\\\faPalette} ' + '{}'.format(row[1].strip()) + '\\n'\n",
        "  camp = row[2].strip()\n",
        "  campinfo = ''\n",
        "  if camp != '':\n",
        "    campinfo = '{\\color{teal} \\\\faMapMarked} ' + '{}'.format(camp) + '\\n' # make this a fancy location marker\n",
        "  description =  '{}'.format(row[3].strip()) + '\\n'\n",
        "  output += '\\\\vbox{\\n' + title + artist + campinfo + description + '}\\n\\n'\n",
        "\n",
        "  # break\n",
        "output = output.replace('&', '\\\\&')\n",
        "output = output.replace('\\n', '\\n\\n')\n",
        "# print(output)\n",
        "\n",
        "with open('art_raw.tex', 'w') as f:\n",
        "  f.write(output)\n",
        "\n",
        "files.download('art_raw.tex')"
      ],
      "metadata": {
        "colab": {
          "base_uri": "https://localhost:8080/",
          "height": 17
        },
        "id": "7wHYeWUbSAZc",
        "outputId": "0b5acd7b-180d-4adb-97c7-bc098cf9876e"
      },
      "execution_count": null,
      "outputs": [
        {
          "output_type": "display_data",
          "data": {
            "text/plain": [
              "<IPython.core.display.Javascript object>"
            ],
            "application/javascript": [
              "\n",
              "    async function download(id, filename, size) {\n",
              "      if (!google.colab.kernel.accessAllowed) {\n",
              "        return;\n",
              "      }\n",
              "      const div = document.createElement('div');\n",
              "      const label = document.createElement('label');\n",
              "      label.textContent = `Downloading \"${filename}\": `;\n",
              "      div.appendChild(label);\n",
              "      const progress = document.createElement('progress');\n",
              "      progress.max = size;\n",
              "      div.appendChild(progress);\n",
              "      document.body.appendChild(div);\n",
              "\n",
              "      const buffers = [];\n",
              "      let downloaded = 0;\n",
              "\n",
              "      const channel = await google.colab.kernel.comms.open(id);\n",
              "      // Send a message to notify the kernel that we're ready.\n",
              "      channel.send({})\n",
              "\n",
              "      for await (const message of channel.messages) {\n",
              "        // Send a message to notify the kernel that we're ready.\n",
              "        channel.send({})\n",
              "        if (message.buffers) {\n",
              "          for (const buffer of message.buffers) {\n",
              "            buffers.push(buffer);\n",
              "            downloaded += buffer.byteLength;\n",
              "            progress.value = downloaded;\n",
              "          }\n",
              "        }\n",
              "      }\n",
              "      const blob = new Blob(buffers, {type: 'application/binary'});\n",
              "      const a = document.createElement('a');\n",
              "      a.href = window.URL.createObjectURL(blob);\n",
              "      a.download = filename;\n",
              "      div.appendChild(a);\n",
              "      a.click();\n",
              "      div.remove();\n",
              "    }\n",
              "  "
            ]
          },
          "metadata": {}
        },
        {
          "output_type": "display_data",
          "data": {
            "text/plain": [
              "<IPython.core.display.Javascript object>"
            ],
            "application/javascript": [
              "download(\"download_f6372edb-1693-47b1-95d4-ea60cbf43a41\", \"art_raw.tex\", 10617)"
            ]
          },
          "metadata": {}
        }
      ]
    },
    {
      "cell_type": "markdown",
      "source": [
        "# Process Camps -- in progress"
      ],
      "metadata": {
        "id": "ZOFpFg_ESK5D"
      }
    },
    {
      "cell_type": "code",
      "source": [
        "def makeCampTheme(theme):\n",
        "  icons = ''\n",
        "  if 'Adult' in theme:\n",
        "    icons += '\\\\faUserAstronaut '\n",
        "  if 'Kids' in theme:\n",
        "    icons += '\\\\faChild '\n",
        "  if 'Art' in theme:\n",
        "    icons += '\\\\faPalette '\n",
        "  if 'Bar' in theme:\n",
        "    icons += '\\\\faIcon{glass-martini-alt} '\n",
        "  if 'Drinks-non-alcoholic' in theme:\n",
        "    icons += '\\\\faCoffee '\n",
        "  if 'Food' in theme:\n",
        "    icons += '\\\\faPizzaSlice '\n",
        "  if 'Chill' in theme:\n",
        "    icons += '\\\\faUmbrellaBeach '\n",
        "  if 'Games' in theme:\n",
        "    icons += '\\\\faDice '\n",
        "  if 'Learning' in theme:\n",
        "    icons += '\\\\faGraduationCap '\n",
        "  if 'Music-silent' in theme:\n",
        "    icons += '\\\\faHeadphones '\n",
        "  elif 'Music' in theme:\n",
        "    icons += '\\\\faMusic '\n",
        "  if 'Performance' in theme:\n",
        "    icons += '\\\\faTheaterMasks '\n",
        "  return icons\n",
        "  # \\\\faChild \\\\faBaby \\\\faBasketballBall \\\\faCameraRetro \\\\faCampground \\\\faCoffee \\\\faCouch \\\\faDice \\\\faHiking \\\\faLeaf \\\\faUmbrellaBeach \\\\faWalking\n",
        "  # \\\\faIcon[regular]{lightbulb} \\\\faMoon \\\\faMortarPestle \\\\faMugHot \\\\faPeace \\\\faRainbow \\\\faRunning \\\\faSeedling  \\\\faStar \\\\faSun \\faUserAstronaut \\\\faUser\n",
        "\n",
        "\n",
        "def compileCampOutput(camp, theme, description, location='', notes=''):\n",
        "  if camp in [\"We're Occult\", 'World Spirits']:\n",
        "    output = '\\\\vbox{\\n' + '\\subsection*{\\\\begin{tblr}{Q[0.6\\columnwidth]X[halign=r, valign=t]}' + '{}'.format(camp.replace('&', '\\\\&')) + '& {\\color{purple} ' + \\\n",
        "             theme + '}\\end{tblr}\\\\vspace{-1em}}\\n' + location + description.replace('&', '\\\\&').replace('#', '\\\\#') + notes + '\\n}\\n\\n'\n",
        "  else:\n",
        "    output = '\\\\vbox{\\n' + '\\subsection*{\\\\begin{tblr}{Q[0.7\\columnwidth]X[halign=r, valign=t]}' + '{}'.format(camp.replace('&', '\\\\&')) + '& {\\color{purple} ' + \\\n",
        "             theme + '}\\end{tblr}\\\\vspace{-1em}}\\n' + location + description.replace('&', '\\\\&').replace('#', '\\\\#') + notes + '\\n}\\n\\n'\n",
        "  output = output.replace('\\n', '\\n\\n')\n",
        "  return output\n",
        "\n",
        "\n",
        "# read data and put it in a dataframe\n",
        "gs = gc.open_by_url(campURL)\n",
        "worksheet = gs.get_worksheet(0)\n",
        "\n",
        "df = pd.DataFrame(worksheet.get_all_records())\n",
        "df.rename(columns={'Theme Camp Name': 'camp',\n",
        "                   'In what \"genres\" would you classify your camp? Check all that apply.': 'theme',\n",
        "                  #  'Notes': 'notes',\n",
        "                   'Public Camp Description': 'description'}, inplace=True)\n",
        "df = df[['camp', 'theme', 'description']] # update to reflect inputs -- note that we could add neighborhoods here if we have those\n",
        "df.sort_values(by='camp', inplace=True)\n",
        "\n",
        "output = ''\n",
        "\n",
        "for index, row in df.iterrows():\n",
        "  camp = row[0].strip()\n",
        "  theme = makeCampTheme(row[1].strip())\n",
        "  description =  '{}'.format(row[2].strip()) + '\\n'\n",
        "  # location = '{\\color{teal} \\\\faMapMarked}~~' + row[3].strip() + '\\n'\n",
        "  # notes =  '{}'.format(row[4].strip())\n",
        "  # if row[4].strip() == 'skip':\n",
        "  #   continue\n",
        "  # elif notes != '':\n",
        "  #   notes = '\\n\\\\faInfoCircle~~' + notes\n",
        "  output += compileCampOutput(camp, theme, description)\n",
        "\n",
        "with open('camps_raw.tex', 'w') as f:\n",
        "  f.write(output)\n",
        "\n",
        "files.download('camps_raw.tex')\n",
        "\n"
      ],
      "metadata": {
        "colab": {
          "base_uri": "https://localhost:8080/",
          "height": 34
        },
        "id": "8A6zio0kSAbz",
        "outputId": "8f34a7c1-da54-454e-aa2c-c4215757ee18"
      },
      "execution_count": null,
      "outputs": [
        {
          "output_type": "display_data",
          "data": {
            "text/plain": [
              "<IPython.core.display.Javascript object>"
            ],
            "application/javascript": [
              "\n",
              "    async function download(id, filename, size) {\n",
              "      if (!google.colab.kernel.accessAllowed) {\n",
              "        return;\n",
              "      }\n",
              "      const div = document.createElement('div');\n",
              "      const label = document.createElement('label');\n",
              "      label.textContent = `Downloading \"${filename}\": `;\n",
              "      div.appendChild(label);\n",
              "      const progress = document.createElement('progress');\n",
              "      progress.max = size;\n",
              "      div.appendChild(progress);\n",
              "      document.body.appendChild(div);\n",
              "\n",
              "      const buffers = [];\n",
              "      let downloaded = 0;\n",
              "\n",
              "      const channel = await google.colab.kernel.comms.open(id);\n",
              "      // Send a message to notify the kernel that we're ready.\n",
              "      channel.send({})\n",
              "\n",
              "      for await (const message of channel.messages) {\n",
              "        // Send a message to notify the kernel that we're ready.\n",
              "        channel.send({})\n",
              "        if (message.buffers) {\n",
              "          for (const buffer of message.buffers) {\n",
              "            buffers.push(buffer);\n",
              "            downloaded += buffer.byteLength;\n",
              "            progress.value = downloaded;\n",
              "          }\n",
              "        }\n",
              "      }\n",
              "      const blob = new Blob(buffers, {type: 'application/binary'});\n",
              "      const a = document.createElement('a');\n",
              "      a.href = window.URL.createObjectURL(blob);\n",
              "      a.download = filename;\n",
              "      div.appendChild(a);\n",
              "      a.click();\n",
              "      div.remove();\n",
              "    }\n",
              "  "
            ]
          },
          "metadata": {}
        },
        {
          "output_type": "display_data",
          "data": {
            "text/plain": [
              "<IPython.core.display.Javascript object>"
            ],
            "application/javascript": [
              "download(\"download_0672673b-b80e-4b6b-8f32-e4637864ce5a\", \"camps_raw.tex\", 24530)"
            ]
          },
          "metadata": {}
        }
      ]
    },
    {
      "cell_type": "markdown",
      "source": [
        "# Process Events"
      ],
      "metadata": {
        "id": "lAF_PCdUSM6R"
      }
    },
    {
      "cell_type": "code",
      "source": [
        "# read data and put it in a dataframe\n",
        "gs = gc.open_by_url(eventURL)\n",
        "worksheet = gs.get_worksheet(0)\n",
        "\n",
        "df = pd.DataFrame(worksheet.get_all_records())\n",
        "df.rename(columns={'What shall we call your Event?': 'title',\n",
        "                   'Who is hosting? Theme Camp or Your name': 'host',\n",
        "                   'Which day would you prefer? ': 'day',\n",
        "                   'What time slot would you prefer? ': 'time_pretty',\n",
        "                   'Description of your play-learn-workshop-event for the Pocket Guide!': 'description',\n",
        "                   'Select a theme of your event for Pocket Guide!': 'theme',\n",
        "                   'If Materials Are Used, Will You Provide Them?' : 'bring',\n",
        "                   'Not a Theme Camp? Please give us a location (art installation, lakeside, effigy, temple.. etc)': 'location'}, inplace=True)\n",
        "df = df[['title', 'host', 'location', 'day', 'time_pretty', 'time_tech', 'theme', 'description', 'bring']]\n",
        "df = df.infer_objects()\n",
        "df.sort_values(by='time_tech', inplace=True)\n",
        "df.info()"
      ],
      "metadata": {
        "colab": {
          "base_uri": "https://localhost:8080/"
        },
        "id": "O0XUAPtnPbj0",
        "outputId": "95d7381f-77a6-4062-f6e4-d03870c6f41e"
      },
      "execution_count": null,
      "outputs": [
        {
          "output_type": "stream",
          "name": "stdout",
          "text": [
            "<class 'pandas.core.frame.DataFrame'>\n",
            "Int64Index: 53 entries, 50 to 27\n",
            "Data columns (total 9 columns):\n",
            " #   Column       Non-Null Count  Dtype \n",
            "---  ------       --------------  ----- \n",
            " 0   title        53 non-null     object\n",
            " 1   host         53 non-null     object\n",
            " 2   location     53 non-null     object\n",
            " 3   day          53 non-null     object\n",
            " 4   time_pretty  53 non-null     object\n",
            " 5   time_tech    53 non-null     int64 \n",
            " 6   theme        53 non-null     object\n",
            " 7   description  53 non-null     object\n",
            " 8   bring        53 non-null     object\n",
            "dtypes: int64(1), object(8)\n",
            "memory usage: 4.1+ KB\n"
          ]
        }
      ]
    },
    {
      "cell_type": "code",
      "source": [
        "def makeEventTheme(theme):\n",
        "  if theme == 'Performance':\n",
        "    return '{\\color{purple} \\\\faTheaterMasks}'\n",
        "  elif theme == 'Event':\n",
        "    return '{\\color{purple} \\\\faIcon[regular]{calendar-alt}}'\n",
        "  elif theme == 'Party':\n",
        "    return '{\\color{purple} \\\\faIcon{glass-martini-alt}}'\n",
        "  elif theme == 'Workshop':\n",
        "    return '{\\color{purple} \\\\faGraduationCap}'\n",
        "  elif theme == 'Game':\n",
        "    return '{\\color{purple} \\\\faChess}'\n",
        "  elif theme == 'Music':\n",
        "    return '{\\color{purple} \\\\faMusic}'\n",
        "  elif theme == 'Food':\n",
        "    return '{\\color{purple} \\\\faPizzaSlice}'\n",
        "  elif theme == 'Non-alcoholic-Drinks':\n",
        "    return '{\\color{purple} \\\\faCoffee}'\n",
        "  elif theme == 'Tour':\n",
        "    return '{\\color{purple} \\\\faIcon{bus-alt}}'\n",
        "  elif theme == 'Fire':\n",
        "    return '{\\color{purple} \\\\faIcon{fire-alt}}'\n",
        "  elif theme == 'Chill':\n",
        "    return '{\\color{purple} \\\\faUmbrellaBeach}'\n",
        "  else:\n",
        "    return ''\n",
        "\n",
        "def compileEventOutput(title, host, location, time, description, bring):\n",
        "  output = '\\\\vbox{\\n' + title + \"\\\\begin{description}[leftmargin=2em,noitemsep,style=nextline]\\n\" + host + location + time +\\\n",
        "            bring + \"\\end{description}\\n\" + description.replace('&', '\\\\&') + '}\\n\\n'\n",
        "  # output = output.replace('&', '\\\\&')\n",
        "  output = output.replace('\\n', '\\n\\n')\n",
        "  return output\n",
        "\n",
        "\n",
        "ongoing = '' # title for ongoing saved separately\n",
        "thursday = '\\section[Thursday]{Thursday Events}\\n\\n'\n",
        "friday = '\\section[Friday]{Friday Events}\\n\\n'\n",
        "saturday = '\\section[Saturday]{Saturday Events}\\n\\n'\n",
        "sunday = '\\section[Sunday]{Sunday Events}\\n\\n'"
      ],
      "metadata": {
        "id": "EqpuGfJER5xu"
      },
      "execution_count": null,
      "outputs": []
    },
    {
      "cell_type": "code",
      "source": [
        "for index, row in df.iterrows():\n",
        "  title =  '\\subsection*{\\\\begin{tblr}{Q[0.8\\columnwidth]X[halign=r, valign=t]}' + '{} & {}'.format(row[0].strip().replace('&', '\\\\&'), makeEventTheme(row[6].strip())) + '\\end{tblr}}\\n'\n",
        "  host = '\\item[{\\color{violet} \\\\faUserFriends}] ' + '{}'.format(row[1].strip()) + '\\n'\n",
        "  locationField = row[2].strip()\n",
        "  location = ''\n",
        "  if locationField != '':\n",
        "    location = '\\item[{\\color{teal} \\\\faMapMarked}] ' + '{}'.format(locationField) + '\\n'\n",
        "  # theme = makeEventTheme(row[6])\n",
        "  day = row[3].strip().split()[0].split(',')[0]\n",
        "  time = '\\item[{\\color{cyan} \\\\faClock[regular]}] ' + '{}'.format(row[4].strip()) + '\\n'\n",
        "  timeTech = '{:04d}'.format(row[5])\n",
        "  description =  '{}'.format(row[7].strip()) + '\\n'\n",
        "  bring = ''\n",
        "  if row[8].strip() != '':\n",
        "    bring = '\\item[{\\color{red} \\\\faSuitcase}] ' + '{}'.format(row[8].strip()) + '\\n'\n",
        "  output = compileEventOutput(title, host, location, time, description, bring)\n",
        "  if day == 'Everyday':\n",
        "    ongoing += output\n",
        "  elif day == 'Thursday':\n",
        "    thursday += output\n",
        "  elif day == 'Friday':\n",
        "    friday += output\n",
        "  elif day == 'Saturday':\n",
        "    saturday += output\n",
        "  elif day == 'Sunday':\n",
        "    sunday += output\n",
        "\n",
        "\n",
        "with open('events-raw.tex', 'w') as f:\n",
        "  f.write(ongoing + thursday + friday + saturday + sunday)\n",
        "\n",
        "files.download('events-raw.tex')"
      ],
      "metadata": {
        "colab": {
          "base_uri": "https://localhost:8080/",
          "height": 17
        },
        "id": "f8QgCJ2gKRRD",
        "outputId": "0e2bebc2-eed2-433f-e0e6-b1f40cdfab1b"
      },
      "execution_count": null,
      "outputs": [
        {
          "output_type": "display_data",
          "data": {
            "text/plain": [
              "<IPython.core.display.Javascript object>"
            ],
            "application/javascript": [
              "\n",
              "    async function download(id, filename, size) {\n",
              "      if (!google.colab.kernel.accessAllowed) {\n",
              "        return;\n",
              "      }\n",
              "      const div = document.createElement('div');\n",
              "      const label = document.createElement('label');\n",
              "      label.textContent = `Downloading \"${filename}\": `;\n",
              "      div.appendChild(label);\n",
              "      const progress = document.createElement('progress');\n",
              "      progress.max = size;\n",
              "      div.appendChild(progress);\n",
              "      document.body.appendChild(div);\n",
              "\n",
              "      const buffers = [];\n",
              "      let downloaded = 0;\n",
              "\n",
              "      const channel = await google.colab.kernel.comms.open(id);\n",
              "      // Send a message to notify the kernel that we're ready.\n",
              "      channel.send({})\n",
              "\n",
              "      for await (const message of channel.messages) {\n",
              "        // Send a message to notify the kernel that we're ready.\n",
              "        channel.send({})\n",
              "        if (message.buffers) {\n",
              "          for (const buffer of message.buffers) {\n",
              "            buffers.push(buffer);\n",
              "            downloaded += buffer.byteLength;\n",
              "            progress.value = downloaded;\n",
              "          }\n",
              "        }\n",
              "      }\n",
              "      const blob = new Blob(buffers, {type: 'application/binary'});\n",
              "      const a = document.createElement('a');\n",
              "      a.href = window.URL.createObjectURL(blob);\n",
              "      a.download = filename;\n",
              "      div.appendChild(a);\n",
              "      a.click();\n",
              "      div.remove();\n",
              "    }\n",
              "  "
            ]
          },
          "metadata": {}
        },
        {
          "output_type": "display_data",
          "data": {
            "text/plain": [
              "<IPython.core.display.Javascript object>"
            ],
            "application/javascript": [
              "download(\"download_9b69822b-47cf-4aeb-b3b9-260694d06529\", \"events-raw.tex\", 38062)"
            ]
          },
          "metadata": {}
        }
      ]
    },
    {
      "cell_type": "code",
      "source": [],
      "metadata": {
        "id": "l1QbEiixLH17"
      },
      "execution_count": null,
      "outputs": []
    }
  ]
}